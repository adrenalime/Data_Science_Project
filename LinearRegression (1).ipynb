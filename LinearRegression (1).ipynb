{
 "cells": [
  {
   "cell_type": "code",
   "execution_count": 1,
   "id": "a7e8bae1",
   "metadata": {},
   "outputs": [],
   "source": [
    "import pandas as pd\n",
    "import matplotlib.pyplot as plt\n",
    "from sklearn.linear_model import LinearRegression\n",
    "import numpy as np\n",
    "from sklearn.model_selection import train_test_split"
   ]
  },
  {
   "cell_type": "code",
   "execution_count": 2,
   "id": "6664f940",
   "metadata": {},
   "outputs": [],
   "source": [
    "veri1= pd.read_csv('2020.csv')\n",
    "veri2=pd.read_csv('2021.csv')"
   ]
  },
  {
   "cell_type": "code",
   "execution_count": 3,
   "id": "a67c0c54",
   "metadata": {},
   "outputs": [],
   "source": [
    "frames = [veri1,veri2]\n",
    "veri = pd.concat(frames)\n",
    "veri = veri[['Ladder score','Logged GDP per capita','Social support','Healthy life expectancy','Freedom to make life choices','Generosity','Perceptions of corruption','Dystopia + residual']]"
   ]
  },
  {
   "cell_type": "code",
   "execution_count": 4,
   "id": "1b1331d3",
   "metadata": {},
   "outputs": [],
   "source": [
    "y=np.array(veri['Ladder score'])\n",
    "X=np.array(veri.drop('Ladder score',axis=1))"
   ]
  },
  {
   "cell_type": "code",
   "execution_count": 5,
   "id": "3edb337e",
   "metadata": {},
   "outputs": [],
   "source": [
    "X_train, X_test, y_train, y_test=train_test_split(X,y,test_size=0.2,random_state=2)"
   ]
  },
  {
   "cell_type": "code",
   "execution_count": 6,
   "id": "5a08e1cf",
   "metadata": {},
   "outputs": [],
   "source": [
    "linear = LinearRegression()"
   ]
  },
  {
   "cell_type": "code",
   "execution_count": 7,
   "id": "5b809336",
   "metadata": {},
   "outputs": [
    {
     "data": {
      "text/plain": [
       "LinearRegression()"
      ]
     },
     "execution_count": 7,
     "metadata": {},
     "output_type": "execute_result"
    }
   ],
   "source": [
    "linear.fit(X_train,y_train)"
   ]
  },
  {
   "cell_type": "code",
   "execution_count": 8,
   "id": "a185cb08",
   "metadata": {},
   "outputs": [
    {
     "data": {
      "text/plain": [
       "0.9581787003506408"
      ]
     },
     "execution_count": 8,
     "metadata": {},
     "output_type": "execute_result"
    }
   ],
   "source": [
    "linear.score(X_test,y_test)"
   ]
  },
  {
   "cell_type": "code",
   "execution_count": 9,
   "id": "c3d64e98",
   "metadata": {},
   "outputs": [
    {
     "data": {
      "text/plain": [
       "0.9568213167204402"
      ]
     },
     "execution_count": 9,
     "metadata": {},
     "output_type": "execute_result"
    }
   ],
   "source": [
    "linear.score(X_train,y_train)"
   ]
  },
  {
   "cell_type": "code",
   "execution_count": 10,
   "id": "6c188dc2",
   "metadata": {},
   "outputs": [
    {
     "name": "stdout",
     "output_type": "stream",
     "text": [
      "Katsayılar:\n",
      " [ 0.30048737  2.3880142   0.03460259  1.37889757  0.6422361  -0.64047454\n",
      "  0.83901927]\n",
      "Sabit:\n",
      " -3.9287132536761895\n"
     ]
    }
   ],
   "source": [
    "print('Katsayılar:\\n',linear.coef_)\n",
    "print('Sabit:\\n',linear.intercept_)"
   ]
  },
  {
   "cell_type": "code",
   "execution_count": 11,
   "id": "f9846aec",
   "metadata": {},
   "outputs": [
    {
     "data": {
      "text/html": [
       "<div>\n",
       "<style scoped>\n",
       "    .dataframe tbody tr th:only-of-type {\n",
       "        vertical-align: middle;\n",
       "    }\n",
       "\n",
       "    .dataframe tbody tr th {\n",
       "        vertical-align: top;\n",
       "    }\n",
       "\n",
       "    .dataframe thead th {\n",
       "        text-align: right;\n",
       "    }\n",
       "</style>\n",
       "<table border=\"1\" class=\"dataframe\">\n",
       "  <thead>\n",
       "    <tr style=\"text-align: right;\">\n",
       "      <th></th>\n",
       "      <th>Actual</th>\n",
       "      <th>Predicted</th>\n",
       "    </tr>\n",
       "  </thead>\n",
       "  <tbody>\n",
       "    <tr>\n",
       "      <th>0</th>\n",
       "      <td>5.0051</td>\n",
       "      <td>4.775357</td>\n",
       "    </tr>\n",
       "    <tr>\n",
       "      <th>1</th>\n",
       "      <td>3.6150</td>\n",
       "      <td>3.890230</td>\n",
       "    </tr>\n",
       "    <tr>\n",
       "      <th>2</th>\n",
       "      <td>5.1598</td>\n",
       "      <td>5.012430</td>\n",
       "    </tr>\n",
       "    <tr>\n",
       "      <th>3</th>\n",
       "      <td>6.3771</td>\n",
       "      <td>6.339682</td>\n",
       "    </tr>\n",
       "    <tr>\n",
       "      <th>4</th>\n",
       "      <td>3.6000</td>\n",
       "      <td>3.920084</td>\n",
       "    </tr>\n",
       "    <tr>\n",
       "      <th>...</th>\n",
       "      <td>...</td>\n",
       "      <td>...</td>\n",
       "    </tr>\n",
       "    <tr>\n",
       "      <th>56</th>\n",
       "      <td>6.6900</td>\n",
       "      <td>6.886307</td>\n",
       "    </tr>\n",
       "    <tr>\n",
       "      <th>57</th>\n",
       "      <td>5.1191</td>\n",
       "      <td>5.073095</td>\n",
       "    </tr>\n",
       "    <tr>\n",
       "      <th>58</th>\n",
       "      <td>7.2770</td>\n",
       "      <td>7.476621</td>\n",
       "    </tr>\n",
       "    <tr>\n",
       "      <th>59</th>\n",
       "      <td>5.8130</td>\n",
       "      <td>6.003880</td>\n",
       "    </tr>\n",
       "    <tr>\n",
       "      <th>60</th>\n",
       "      <td>5.1372</td>\n",
       "      <td>4.951645</td>\n",
       "    </tr>\n",
       "  </tbody>\n",
       "</table>\n",
       "<p>61 rows × 2 columns</p>\n",
       "</div>"
      ],
      "text/plain": [
       "    Actual  Predicted\n",
       "0   5.0051   4.775357\n",
       "1   3.6150   3.890230\n",
       "2   5.1598   5.012430\n",
       "3   6.3771   6.339682\n",
       "4   3.6000   3.920084\n",
       "..     ...        ...\n",
       "56  6.6900   6.886307\n",
       "57  5.1191   5.073095\n",
       "58  7.2770   7.476621\n",
       "59  5.8130   6.003880\n",
       "60  5.1372   4.951645\n",
       "\n",
       "[61 rows x 2 columns]"
      ]
     },
     "execution_count": 11,
     "metadata": {},
     "output_type": "execute_result"
    }
   ],
   "source": [
    "y_pred = linear.predict(X_test)\n",
    "df = pd.DataFrame({'Actual': y_test.flatten(), 'Predicted': y_pred.flatten()})\n",
    "df"
   ]
  },
  {
   "cell_type": "code",
   "execution_count": 12,
   "id": "3860f22a",
   "metadata": {},
   "outputs": [
    {
     "data": {
      "image/png": "[encoded data removed]",
      "text/plain": [
       "<Figure size 1152x720 with 1 Axes>"
      ]
     },
     "metadata": {
      "needs_background": "light"
     },
     "output_type": "display_data"
    }
   ],
   "source": [
    "df1 = df.head(25)\n",
    "df1.plot(kind='bar',figsize=(16,10))\n",
    "plt.grid(which='major', linestyle='-', linewidth='0.5', color='green')\n",
    "plt.grid(which='minor', linestyle=':', linewidth='0.5', color='black')\n",
    "plt.show()"
   ]
  },
  {
   "cell_type": "code",
   "execution_count": 18,
   "id": "d925edc0",
   "metadata": {},
   "outputs": [
    {
     "data": {
      "image/png": "[encoded data removed]",
      "text/plain": [
       "<Figure size 432x288 with 1 Axes>"
      ]
     },
     "metadata": {
      "needs_background": "light"
     },
     "output_type": "display_data"
    }
   ],
   "source": [
    "from sklearn.metrics import r2_score\n",
    "linear = LinearRegression()\n",
    "linear.fit(X_train, y_train)\n",
    "preds_linear = linear.predict(X_test)\n",
    "corr_linear = round(pd.Series(preds_linear).corr(\n",
    "pd.Series(y_test)), 3)\n",
    "rsquared_linear = r2_score(y_test, preds_linear)\n",
    "plt.scatter(preds_linear, y_test,color= 'red')\n",
    "plt.title(\"Lin. Reg. Corr=%f Rsq=%f\"\n",
    "% (corr_linear, rsquared_linear))\n",
    "plt.xlabel(\"Predicted\")\n",
    "plt.ylabel(\"Actual\")\n",
    "plt.plot(y_test, y_test)\n",
    "plt.show()"
   ]
  },
  {
   "cell_type": "code",
   "execution_count": 14,
   "id": "16480b0c",
   "metadata": {},
   "outputs": [
    {
     "data": {
      "text/plain": [
       "array([5.5051008])"
      ]
     },
     "execution_count": 14,
     "metadata": {},
     "output_type": "execute_result"
    }
   ],
   "source": [
    "#2021 için ladder score=4.948 değişkenler=(10.240,0.822,67.199,0.576,-0.139,0.776,1.852)\n",
    "#2022 için tahmin\n",
    "yeni_ulke = np.array([[10.240,0.822,70.000,0.600,-0.139,0.500,1.852]])\n",
    "linear.predict(yeni_ulke)"
   ]
  },
  {
   "cell_type": "code",
   "execution_count": 15,
   "id": "0861e4c5",
   "metadata": {},
   "outputs": [
    {
     "name": "stdout",
     "output_type": "stream",
     "text": [
      "Accuracy of training data: 95.68213167204402\n",
      "Accuracy of testing data: 95.81787003506408\n"
     ]
    }
   ],
   "source": [
    "from sklearn import metrics\n",
    "ypred_train = linear.predict(X_train)\n",
    "y_pred_test=preds_linear\n",
    "print(\"Accuracy of training data:\", metrics.r2_score(y_train, ypred_train)*100)\n",
    "ac1 = metrics.r2_score(y_test, y_pred_test)*100\n",
    "print(\"Accuracy of testing data:\", ac1)"
   ]
  },
  {
   "cell_type": "code",
   "execution_count": 16,
   "id": "6f46d953-82c0-4ffc-99d3-aac45a0ae081",
   "metadata": {},
   "outputs": [
    {
     "name": "stdout",
     "output_type": "stream",
     "text": [
      "Mean Absolute Error: 0.2135540001967705\n",
      "Mean Squared Error: 0.053424487964236184\n",
      "Root Mean Squared Error: 0.23113737898539083\n"
     ]
    }
   ],
   "source": [
    "print('Mean Absolute Error:', metrics.mean_absolute_error(y_test, y_pred_test))\n",
    "print('Mean Squared Error:', metrics.mean_squared_error(y_test, y_pred_test))\n",
    "print('Root Mean Squared Error:', np.sqrt(metrics.mean_squared_error(y_test, y_pred_test)))"
   ]
  },
  {
   "cell_type": "code",
   "execution_count": null,
   "id": "e4e650aa-4970-4f2e-94ae-5652de5cfdd5",
   "metadata": {},
   "outputs": [],
   "source": []
  }
 ],
 "metadata": {
  "kernelspec": {
   "display_name": "Python 3 (ipykernel)",
   "language": "python",
   "name": "python3"
  },
  "language_info": {
   "codemirror_mode": {
    "name": "ipython",
    "version": 3
   },
   "file_extension": ".py",
   "mimetype": "text/x-python",
   "name": "python",
   "nbconvert_exporter": "python",
   "pygments_lexer": "ipython3",
   "version": "3.8.6"
  }
 },
 "nbformat": 4,
 "nbformat_minor": 5
}
